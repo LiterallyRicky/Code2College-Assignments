{
  "nbformat": 4,
  "nbformat_minor": 0,
  "metadata": {
    "colab": {
      "provenance": [],
      "authorship_tag": "ABX9TyMJP/GmGDPGgkYWgUnay2d4",
      "include_colab_link": true
    },
    "kernelspec": {
      "name": "python3",
      "display_name": "Python 3"
    },
    "language_info": {
      "name": "python"
    }
  },
  "cells": [
    {
      "cell_type": "markdown",
      "metadata": {
        "id": "view-in-github",
        "colab_type": "text"
      },
      "source": [
        "<a href=\"https://colab.research.google.com/github/LiterallyRicky/Elite101-PreWork/blob/main/Code2College_Coding_Assessment_(1).ipynb\" target=\"_parent\"><img src=\"https://colab.research.google.com/assets/colab-badge.svg\" alt=\"Open In Colab\"/></a>"
      ]
    },
    {
      "cell_type": "markdown",
      "source": [
        "# **Before (provided by Code2College):**"
      ],
      "metadata": {
        "id": "Y3hXW-KW8IFA"
      }
    },
    {
      "cell_type": "markdown",
      "source": [
        "Before I get into my project, I like to make different sections, similar to creating different files, for my code. For this section, I'll copy and paste the code provided by Code2College for me before beginning."
      ],
      "metadata": {
        "id": "RqA_3xld8Pag"
      }
    },
    {
      "cell_type": "markdown",
      "source": [
        "dockingBay.py pasted:"
      ],
      "metadata": {
        "id": "t6LyQG3j8jAj"
      }
    },
    {
      "cell_type": "code",
      "source": [
        "# dockingBays.py\n",
        "\n",
        "# List of docking bays at the space station\n",
        "# Each bay is represented as a dictionary with an ID, size, and current schedule\n",
        "\n",
        "# Sizes can be 'small', 'medium', 'large'\n",
        "\n",
        "docking_bays = [\n",
        "    {\n",
        "        'bay_id': 1,\n",
        "        'size': 'small',\n",
        "        'schedule': []  # list of (arrival_time, departure_time, ship_name) tuples\n",
        "    },\n",
        "    {\n",
        "        'bay_id': 2,\n",
        "        'size': 'small',\n",
        "        'schedule': []\n",
        "    },\n",
        "    {\n",
        "        'bay_id': 3,\n",
        "        'size': 'medium',\n",
        "        'schedule': []\n",
        "    },\n",
        "    {\n",
        "        'bay_id': 4,\n",
        "        'size': 'medium',\n",
        "        'schedule': []\n",
        "    },\n",
        "    {\n",
        "        'bay_id': 5,\n",
        "        'size': 'large',\n",
        "        'schedule': []\n",
        "    },\n",
        "    {\n",
        "        'bay_id': 6,\n",
        "        'size': 'large',\n",
        "        'schedule': []\n",
        "    }\n",
        "]\n",
        "\n",
        "# Example ships with size requirements and docking times\n",
        "# Each ship is a dictionary with a name, size requirement, and desired docking time\n",
        "\n",
        "incoming_ships = [\n",
        "    {\n",
        "        'ship_name': 'Shuttle Alpha',\n",
        "        'size': 'small',\n",
        "        'arrival_time': '12:00',\n",
        "        'departure_time': '14:00'\n",
        "    },\n",
        "    {\n",
        "        'ship_name': 'Freighter Beta',\n",
        "        'size': 'medium',\n",
        "        'arrival_time': '13:00',\n",
        "        'departure_time': '15:00'\n",
        "    },\n",
        "    {\n",
        "        'ship_name': 'Cruiser Gamma',\n",
        "        'size': 'large',\n",
        "        'arrival_time': '14:00',\n",
        "        'departure_time': '18:00'\n",
        "    },\n",
        "    {\n",
        "        'ship_name': 'Shuttle Delta',\n",
        "        'size': 'small',\n",
        "        'arrival_time': '15:00',\n",
        "        'departure_time': '17:00'\n",
        "    },\n",
        "    {\n",
        "        'ship_name': 'Freighter Epsilon',\n",
        "        'size': 'medium',\n",
        "        'arrival_time': '16:00',\n",
        "        'departure_time': '18:00'\n",
        "    },\n",
        "    {\n",
        "        'ship_name': 'Cruiser Zeta',\n",
        "        'size': 'large',\n",
        "        'arrival_time': '10:00',\n",
        "        'departure_time': '12:00'\n",
        "    }\n",
        "]\n",
        "\n",
        "# Existing bookings in the docking bays\n",
        "docking_bays[0]['schedule'] = [\n",
        "    ('10:00', '12:00', 'Maintenance A'),\n",
        "    ('16:00', '18:00', 'Maintenance B')\n",
        "]  # Bay 1\n",
        "\n",
        "docking_bays[2]['schedule'] = [\n",
        "    ('11:00', '13:00', 'Supply Drop')\n",
        "]  # Bay 3\n",
        "\n",
        "docking_bays[4]['schedule'] = [\n",
        "    ('14:00', '16:00', 'Repair C')\n",
        "]  # Bay 5"
      ],
      "metadata": {
        "id": "fNQfQTuA8p8Y"
      },
      "execution_count": 2,
      "outputs": []
    },
    {
      "cell_type": "markdown",
      "source": [
        "main.py pasted:"
      ],
      "metadata": {
        "id": "a1UILiqp8dkt"
      }
    },
    {
      "cell_type": "code",
      "execution_count": 3,
      "metadata": {
        "colab": {
          "base_uri": "https://localhost:8080/"
        },
        "id": "tHYsCAcY615P",
        "outputId": "82790d5e-f388-4198-9552-2118eb845bf2"
      },
      "outputs": [
        {
          "output_type": "stream",
          "name": "stdout",
          "text": [
            "Docking Bays:\n",
            "Bay 1 - Size: small, Schedule: [('10:00', '12:00', 'Maintenance A'), ('16:00', '18:00', 'Maintenance B')]\n",
            "Bay 2 - Size: small, Schedule: []\n",
            "Bay 3 - Size: medium, Schedule: [('11:00', '13:00', 'Supply Drop')]\n",
            "Bay 4 - Size: medium, Schedule: []\n",
            "Bay 5 - Size: large, Schedule: [('14:00', '16:00', 'Repair C')]\n",
            "Bay 6 - Size: large, Schedule: []\n",
            "\n",
            "Incoming Ships:\n",
            "Ship Shuttle Alpha - Size: small, Arrival: 12:00, Departure: 14:00\n",
            "Ship Freighter Beta - Size: medium, Arrival: 13:00, Departure: 15:00\n",
            "Ship Cruiser Gamma - Size: large, Arrival: 14:00, Departure: 18:00\n",
            "Ship Shuttle Delta - Size: small, Arrival: 15:00, Departure: 17:00\n",
            "Ship Freighter Epsilon - Size: medium, Arrival: 16:00, Departure: 18:00\n",
            "Ship Cruiser Zeta - Size: large, Arrival: 10:00, Departure: 12:00\n"
          ]
        }
      ],
      "source": [
        "# main.py\n",
        "\n",
        "# Function to print docking bays information\n",
        "def print_docking_bays():\n",
        "    print(\"Docking Bays:\")\n",
        "    for bay in docking_bays:\n",
        "        print(f\"Bay {bay['bay_id']} - Size: {bay['size']}, Schedule: {bay['schedule']}\")\n",
        "\n",
        "# Function to print incoming ships information\n",
        "def print_incoming_ships():\n",
        "    print(\"\\nIncoming Ships:\")\n",
        "    for ship in incoming_ships:\n",
        "        print(f\"Ship {ship['ship_name']} - Size: {ship['size']}, Arrival: {ship['arrival_time']}, Departure: {ship['departure_time']}\")\n",
        "\n",
        "# Main function\n",
        "def main():\n",
        "    print_docking_bays()\n",
        "    print_incoming_ships()\n",
        "\n",
        "    # TODO: Implement the docking scheduler logic here\n",
        "    # Levels 1 to 4 and the bonus can be implemented below\n",
        "\n",
        "if __name__ == \"__main__\":\n",
        "    main()\n"
      ]
    },
    {
      "cell_type": "markdown",
      "source": [
        "#**Creating Each Level:**"
      ],
      "metadata": {
        "id": "QMApfAwB-m9V"
      }
    },
    {
      "cell_type": "markdown",
      "source": [
        "Now that we have the beginning or the base of our code, let's start with actual creating each level.\n",
        "\n",
        "---\n",
        "\n",
        "**Level one:**"
      ],
      "metadata": {
        "id": "j7293jy5-tvp"
      }
    },
    {
      "cell_type": "markdown",
      "source": [
        "For level one, the criteria details that we must match each step to a docking bay that's the right size. Let's dive into it."
      ],
      "metadata": {
        "id": "vUzya-JA_sUN"
      }
    },
    {
      "cell_type": "code",
      "source": [
        "def match_ships_to_bays():\n",
        "    for ship in incoming_ships:\n",
        "        #Defining ship name + size\n",
        "        ship_name = ship['ship_name']\n",
        "        ship_size = ship['size']\n",
        "\n",
        "        #Printing where each ship could match with the bay size\n",
        "        print(f\"\\nShip '{ship_name}' (Size: {ship_size}) can dock in:\")\n",
        "\n",
        "        #Check each bay to see if the sizes match\n",
        "        for bay in docking_bays:\n",
        "            #Running if the bay size matches with the ship size,\n",
        "            #then it'll print out that it can fit in the corresponding bay!\n",
        "            if bay['size'] == ship_size:\n",
        "                print(f\"- Bay {bay['bay_id']}: (Size: {bay['size']})\")\n",
        "\n",
        "# Running the function\n",
        "match_ships_to_bays()"
      ],
      "metadata": {
        "colab": {
          "base_uri": "https://localhost:8080/"
        },
        "id": "3y0D3duyAHwv",
        "outputId": "49745028-3fa3-4f06-f360-3c1d64826360"
      },
      "execution_count": 4,
      "outputs": [
        {
          "output_type": "stream",
          "name": "stdout",
          "text": [
            "\n",
            "Ship 'Shuttle Alpha' (Size: small) can dock in:\n",
            "- Bay 1: (Size: small)\n",
            "- Bay 2: (Size: small)\n",
            "\n",
            "Ship 'Freighter Beta' (Size: medium) can dock in:\n",
            "- Bay 3: (Size: medium)\n",
            "- Bay 4: (Size: medium)\n",
            "\n",
            "Ship 'Cruiser Gamma' (Size: large) can dock in:\n",
            "- Bay 5: (Size: large)\n",
            "- Bay 6: (Size: large)\n",
            "\n",
            "Ship 'Shuttle Delta' (Size: small) can dock in:\n",
            "- Bay 1: (Size: small)\n",
            "- Bay 2: (Size: small)\n",
            "\n",
            "Ship 'Freighter Epsilon' (Size: medium) can dock in:\n",
            "- Bay 3: (Size: medium)\n",
            "- Bay 4: (Size: medium)\n",
            "\n",
            "Ship 'Cruiser Zeta' (Size: large) can dock in:\n",
            "- Bay 5: (Size: large)\n",
            "- Bay 6: (Size: large)\n"
          ]
        }
      ]
    },
    {
      "cell_type": "markdown",
      "source": [
        "Amazing, so now we can see that, for example, Shuttle Alpha can fit in Bay 1 and Bay 2 since the ship size is small and the bay sizes are corresponded with small as well."
      ],
      "metadata": {
        "id": "Xv244a-KBj3A"
      }
    },
    {
      "cell_type": "markdown",
      "source": [
        "\n",
        "\n",
        "---\n",
        "\n",
        "**Level 2:**"
      ],
      "metadata": {
        "id": "-Ufimr-2BXeC"
      }
    },
    {
      "cell_type": "markdown",
      "source": [
        "Now, let's make a code more complicated. Essentially for Level 2, we have to make a code that not only fits the ship size with the bay size but also matching the ships docking window. For this, we need to make a function that aligns ship time with the docking window, if possible."
      ],
      "metadata": {
        "id": "oRb9F9kGCMjx"
      }
    },
    {
      "cell_type": "code",
      "source": [
        "def is_time_available(bay_schedule, arrival, departure):\n",
        "    for entry in bay_schedule:\n",
        "        bay_arrival, bay_departure = entry[0], entry[1]\n",
        "        #if the time doesn't correspond with the bay time,\n",
        "        #then it returns false and doesn't print out the ship\n",
        "        if not (departure <= bay_arrival or arrival >= bay_departure):\n",
        "            return False\n",
        "    return True\n",
        "\n",
        "def match_ships_by_size_and_time():\n",
        "    for ship in incoming_ships:\n",
        "        #defining each variable\n",
        "        ship_name = ship['ship_name']\n",
        "        ship_size = ship['size']\n",
        "        ship_arrival = ship['arrival_time']\n",
        "        ship_departure = ship['departure_time']\n",
        "\n",
        "        print(f\"\\nShip '{ship_name}' (Size: {ship_size}) can dock in:\")\n",
        "\n",
        "        for bay in docking_bays:\n",
        "          #if the bay size equals the ship size AND the time of the bay's\n",
        "          #schedule matches the ship time, then print it out!\n",
        "            if bay['size'] == ship_size and is_time_available(bay['schedule'], ship_arrival, ship_departure):\n",
        "                print(f\"- Bay {bay['bay_id']} (Available during {ship_arrival} to {ship_departure})\")\n",
        "\n",
        "match_ships_by_size_and_time()\n"
      ],
      "metadata": {
        "colab": {
          "base_uri": "https://localhost:8080/"
        },
        "id": "NVCD7r4zFe1D",
        "outputId": "e5c68a84-18bf-459c-c4e1-581d1718355b"
      },
      "execution_count": 5,
      "outputs": [
        {
          "output_type": "stream",
          "name": "stdout",
          "text": [
            "\n",
            "Ship 'Shuttle Alpha' (Size: small) can dock in:\n",
            "- Bay 1 (Available during 12:00 to 14:00)\n",
            "- Bay 2 (Available during 12:00 to 14:00)\n",
            "\n",
            "Ship 'Freighter Beta' (Size: medium) can dock in:\n",
            "- Bay 3 (Available during 13:00 to 15:00)\n",
            "- Bay 4 (Available during 13:00 to 15:00)\n",
            "\n",
            "Ship 'Cruiser Gamma' (Size: large) can dock in:\n",
            "- Bay 6 (Available during 14:00 to 18:00)\n",
            "\n",
            "Ship 'Shuttle Delta' (Size: small) can dock in:\n",
            "- Bay 2 (Available during 15:00 to 17:00)\n",
            "\n",
            "Ship 'Freighter Epsilon' (Size: medium) can dock in:\n",
            "- Bay 3 (Available during 16:00 to 18:00)\n",
            "- Bay 4 (Available during 16:00 to 18:00)\n",
            "\n",
            "Ship 'Cruiser Zeta' (Size: large) can dock in:\n",
            "- Bay 5 (Available during 10:00 to 12:00)\n",
            "- Bay 6 (Available during 10:00 to 12:00)\n"
          ]
        }
      ]
    },
    {
      "cell_type": "markdown",
      "source": [
        "Nice! Now, we can see that each small ship correspond with each small bay and so on. Also, the time is corresponded with each one, showing that the time for the ship also corresponds with the bay docking window."
      ],
      "metadata": {
        "id": "J94ETqgrOmfU"
      }
    },
    {
      "cell_type": "markdown",
      "source": [
        "\n",
        "\n",
        "---\n",
        "**Level 3:**\n"
      ],
      "metadata": {
        "id": "_5Vq6s4uNtMc"
      }
    },
    {
      "cell_type": "markdown",
      "source": [
        "1.) Each ship gets a docking bay based on its size requirement.\n",
        "\n",
        "2.) The docking bay is available during the ship's requested docking time.\n",
        "\n",
        "3.) No bay is double-booked at the same time."
      ],
      "metadata": {
        "id": "ojXTdWwUOYBv"
      }
    },
    {
      "cell_type": "markdown",
      "source": [
        "For the bay not being double-booked at the same time, some type of loop must run so when a ship first comes, another ship cannot come in the same bay. Most likely a for loop can be created for this. <- Don't really know how to do this but I'll try some other stuff before"
      ],
      "metadata": {
        "id": "hP4tCw7RXuhf"
      }
    },
    {
      "cell_type": "code",
      "source": [
        "def is_time_available(bay_schedule, arrival, departure):\n",
        "    for entry in bay_schedule:\n",
        "        bay_arrival, bay_departure = entry[0], entry[1]\n",
        "        #if the time doesn't correspond with the bay time,\n",
        "        #then it returns false and doesn't print out the ship\n",
        "        if not (departure <= bay_arrival or arrival >= bay_departure):\n",
        "            return False\n",
        "    return True\n",
        "\n",
        "def match_ships_by_size_and_time():\n",
        "    for ship in incoming_ships:\n",
        "        #defining each variable\n",
        "        ship_name = ship['ship_name']\n",
        "        ship_size = ship['size']\n",
        "        ship_arrival = ship['arrival_time']\n",
        "        ship_departure = ship['departure_time']\n",
        "\n",
        "        print(f\"\\nShip '{ship_name}' (Size: {ship_size}) can dock in:\")\n",
        "\n",
        "        for bay in docking_bays:\n",
        "            if bay['size'] == ship_size and is_time_available(bay['schedule'], ship_arrival, ship_departure):\n",
        "                print(f\"- Bay {bay['bay_id']} (Available during {ship_arrival} to {ship_departure})\")\n",
        "                #essentially the same thing as level 2, but with an added break\n",
        "                #so that only one ship is in one bay.\n",
        "                break\n",
        "\n",
        "match_ships_by_size_and_time()\n"
      ],
      "metadata": {
        "id": "Q7F9-2UAO70P",
        "colab": {
          "base_uri": "https://localhost:8080/"
        },
        "outputId": "bb02189a-e3a6-4a92-d488-6e0942544594"
      },
      "execution_count": 8,
      "outputs": [
        {
          "output_type": "stream",
          "name": "stdout",
          "text": [
            "\n",
            "Ship 'Shuttle Alpha' (Size: small) can dock in:\n",
            "- Bay 1 (Available during 12:00 to 14:00)\n",
            "\n",
            "Ship 'Freighter Beta' (Size: medium) can dock in:\n",
            "- Bay 3 (Available during 13:00 to 15:00)\n",
            "\n",
            "Ship 'Cruiser Gamma' (Size: large) can dock in:\n",
            "- Bay 6 (Available during 14:00 to 18:00)\n",
            "\n",
            "Ship 'Shuttle Delta' (Size: small) can dock in:\n",
            "- Bay 2 (Available during 15:00 to 17:00)\n",
            "\n",
            "Ship 'Freighter Epsilon' (Size: medium) can dock in:\n",
            "- Bay 3 (Available during 16:00 to 18:00)\n",
            "\n",
            "Ship 'Cruiser Zeta' (Size: large) can dock in:\n",
            "- Bay 5 (Available during 10:00 to 12:00)\n"
          ]
        }
      ]
    },
    {
      "cell_type": "markdown",
      "source": [
        "I was going to make a for loop function but I think the simpler version I created with a simple break does this almost perfectly."
      ],
      "metadata": {
        "id": "_lnWLESPdHMT"
      }
    },
    {
      "cell_type": "markdown",
      "source": [
        "\n",
        "\n",
        "---\n",
        "**Level 4:**\n"
      ],
      "metadata": {
        "id": "qMtPJEybbq_E"
      }
    },
    {
      "cell_type": "markdown",
      "source": [
        "\"minimizes time gaps between dockings.\" I'm not really sure what that means. I think my Level 3 answer could fit in here maybe?"
      ],
      "metadata": {
        "id": "9AQJkwoFb8Jv"
      }
    },
    {
      "cell_type": "code",
      "source": [
        "def is_time_available(bay_schedule, arrival, departure):\n",
        "    for entry in bay_schedule:\n",
        "        bay_arrival, bay_departure = entry[0], entry[1]\n",
        "        #if the time doesn't correspond with the bay time,\n",
        "        #then it returns false and doesn't print out the ship\n",
        "        if not (departure <= bay_arrival or arrival >= bay_departure):\n",
        "            return False\n",
        "    return True\n",
        "\n",
        "def match_ships_by_size_and_time():\n",
        "    for ship in incoming_ships:\n",
        "        #defining each variable\n",
        "        ship_name = ship['ship_name']\n",
        "        ship_size = ship['size']\n",
        "        ship_arrival = ship['arrival_time']\n",
        "        ship_departure = ship['departure_time']\n",
        "\n",
        "        print(f\"\\nShip '{ship_name}' (Size: {ship_size}) can dock in:\")\n",
        "\n",
        "        for bay in docking_bays:\n",
        "            if bay['size'] == ship_size and is_time_available(bay['schedule'], ship_arrival, ship_departure):\n",
        "                print(f\"- Bay {bay['bay_id']} (Available during {ship_arrival} to {ship_departure})\")\n",
        "                break\n",
        "\n",
        "match_ships_by_size_and_time()\n"
      ],
      "metadata": {
        "colab": {
          "base_uri": "https://localhost:8080/"
        },
        "id": "Fz5hKdimb3pI",
        "outputId": "ddc111a0-630f-4b28-827a-a1c6695095a5"
      },
      "execution_count": 9,
      "outputs": [
        {
          "output_type": "stream",
          "name": "stdout",
          "text": [
            "\n",
            "Ship 'Shuttle Alpha' (Size: small) can dock in:\n",
            "- Bay 1 (Available during 12:00 to 14:00)\n",
            "\n",
            "Ship 'Freighter Beta' (Size: medium) can dock in:\n",
            "- Bay 3 (Available during 13:00 to 15:00)\n",
            "\n",
            "Ship 'Cruiser Gamma' (Size: large) can dock in:\n",
            "- Bay 6 (Available during 14:00 to 18:00)\n",
            "\n",
            "Ship 'Shuttle Delta' (Size: small) can dock in:\n",
            "- Bay 2 (Available during 15:00 to 17:00)\n",
            "\n",
            "Ship 'Freighter Epsilon' (Size: medium) can dock in:\n",
            "- Bay 3 (Available during 16:00 to 18:00)\n",
            "\n",
            "Ship 'Cruiser Zeta' (Size: large) can dock in:\n",
            "- Bay 5 (Available during 10:00 to 12:00)\n"
          ]
        }
      ]
    }
  ]
}